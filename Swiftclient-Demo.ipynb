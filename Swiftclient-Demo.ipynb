{
 "cells": [
  {
   "cell_type": "code",
   "execution_count": 1,
   "metadata": {
    "collapsed": false
   },
   "outputs": [],
   "source": [
    "import os\n",
    "import swiftclient\n"
   ]
  },
  {
   "cell_type": "code",
   "execution_count": 2,
   "metadata": {
    "collapsed": true
   },
   "outputs": [],
   "source": [
    "os.environ['OS_USERNAME'] = 'tihu2273'\n",
    "os.environ['OS_PASSWORD'] = 'wpfeT429::th'\n",
    "os.environ['OS_TENANT_NAME'] = 'g2015016'\n",
    "os.environ['OS_AUTH_URL'] = 'http://smog.uppmax.uu.se:5000/v2.0'"
   ]
  },
  {
   "cell_type": "code",
   "execution_count": 3,
   "metadata": {
    "collapsed": false
   },
   "outputs": [],
   "source": [
    "config = {'user':os.environ['OS_USERNAME'], \n",
    "          'key':os.environ['OS_PASSWORD'],\n",
    "          'tenant_name':os.environ['OS_TENANT_NAME'],\n",
    "          'authurl':os.environ['OS_AUTH_URL']}\n",
    "conn = swiftclient.client.Connection(auth_version=2, **config)"
   ]
  },
  {
   "cell_type": "code",
   "execution_count": 9,
   "metadata": {
    "collapsed": false
   },
   "outputs": [],
   "source": [
    "# Create a container\n",
    "#conn.put_container(\"1000GenomesSH\")"
   ]
  },
  {
   "cell_type": "code",
   "execution_count": 4,
   "metadata": {
    "collapsed": false
   },
   "outputs": [
    {
     "name": "stdout",
     "output_type": "stream",
     "text": [
      "1000GenomesSH\n",
      "GenomeData\n",
      "molns_storage_04c59c75-6602-449d-bc8a-61cb382560b1\n",
      "my-new-container\n",
      "test_bucket_ah\n",
      "test_hadoop_over_swift\n",
      "twitter_data\n"
     ]
    }
   ],
   "source": [
    "# List containers\n",
    "(response, bucket_list) = conn.get_account()\n",
    "for bucket in bucket_list:\n",
    "    print bucket['name']"
   ]
  },
  {
   "cell_type": "code",
   "execution_count": 12,
   "metadata": {
    "collapsed": false
   },
   "outputs": [
    {
     "data": {
      "text/plain": [
       "'d32f4f0bf23973a95e03c1d3af2ac1e0'"
      ]
     },
     "execution_count": 12,
     "metadata": {},
     "output_type": "execute_result"
    }
   ],
   "source": [
    "# Put an object in the container\n",
    "conn.put_object('1000GenomesSH', \"test_object1\", \"Hi Swift\")"
   ]
  },
  {
   "cell_type": "code",
   "execution_count": null,
   "metadata": {
    "collapsed": false
   },
   "outputs": [],
   "source": [
    "#Get object list from source container and destination container\n",
    "(response, obj_list) = conn.get_container('GenomeData')\n",
    "(response, obj_listNew) = conn.get_container('1000GenomesSH')\n",
    "\n",
    "j = 0\n",
    "#remove objects which has in the destination container from source object list \n",
    "#Code added after memory error, Should have better way to avoid this error\n",
    "for obj in obj_list: \n",
    "    for j in range(len(obj_listNew)):\n",
    "        if obj['name'] == obj_listNew[j]['name']:\n",
    "            del obj_list[i]\n",
    "\n",
    "#copy *.bam object to destination container\n",
    "#cost about 3 mins per file\n",
    "for obj in obj_list:            \n",
    "        objName = obj['name']\n",
    "        if objName[-3:] == 'bam':\n",
    "            (response, obj)=conn.get_object('GenomeData', objName)\n",
    "            conn.put_object('1000GenomesSH', objName, obj)\n"
   ]
  }
 ],
 "metadata": {
  "kernelspec": {
   "display_name": "Python 2",
   "language": "python",
   "name": "python2"
  },
  "language_info": {
   "codemirror_mode": {
    "name": "ipython",
    "version": 2
   },
   "file_extension": ".py",
   "mimetype": "text/x-python",
   "name": "python",
   "nbconvert_exporter": "python",
   "pygments_lexer": "ipython2",
   "version": "2.7.6"
  }
 },
 "nbformat": 4,
 "nbformat_minor": 0
}
