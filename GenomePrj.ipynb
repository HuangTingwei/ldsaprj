{
 "cells": [
  {
   "cell_type": "code",
   "execution_count": 1,
   "metadata": {
    "collapsed": false
   },
   "outputs": [],
   "source": [
    "import os\n",
    "from pyspark import SparkContext\n",
    "sc = SparkContext(appName=\"search\", master=os.environ['MASTER'])\n",
    "import pysam"
   ]
  },
  {
   "cell_type": "code",
   "execution_count": 2,
   "metadata": {
    "collapsed": true
   },
   "outputs": [],
   "source": [
    "from pyspark.sql import SQLContext, Row\n",
    "sqlCtx = SQLContext(sc)"
   ]
  },
  {
   "cell_type": "code",
   "execution_count": 30,
   "metadata": {
    "collapsed": false
   },
   "outputs": [],
   "source": [
    "#read bam file and put identicalID, tlen and read seq into sparkContext\n",
    "filename = \"../../../GenomeData/NA21144.chrom20.ILLUMINA.bwa.GIH.low_coverage.20130415.bam\"\n",
    "samfile = pysam.AlignmentFile(filename, 'rb')\n",
    "bf = sc.parallelize([' '])\n",
    "tlenList = []\n",
    "for ite in samfile.fetch():\n",
    "    if abs(ite.tlen) > 1000:\n",
    "        tlenList.append((\"NA21144\", ite.tlen, ite.seq))\n",
    "\n",
    "lines = sc.parallelize(tlenList)  \n",
    "\n",
    "#populate data into sqlContext\n",
    "seqVar = lines.map(lambda p: Row(iid=p[0], tlen=p[1], seq=p[2]))\n",
    "seqVarTable = sqlCtx.inferSchema(seqVar)\n",
    "seqVarTable.registerAsTable(\"seqVar\")\n",
    "\n",
    "\n",
    "\n",
    "#seqVarTable.printSchema()\n",
    "#print seqVarTable.collect()\n",
    "#seqList = sqlCtx.sql(\"SELECT seq from seqVar\")\n"
   ]
  }
 ],
 "metadata": {
  "kernelspec": {
   "display_name": "Python 2",
   "language": "python",
   "name": "python2"
  },
  "language_info": {
   "codemirror_mode": {
    "name": "ipython",
    "version": 2
   },
   "file_extension": ".py",
   "mimetype": "text/x-python",
   "name": "python",
   "nbconvert_exporter": "python",
   "pygments_lexer": "ipython2",
   "version": "2.7.6"
  }
 },
 "nbformat": 4,
 "nbformat_minor": 0
}
